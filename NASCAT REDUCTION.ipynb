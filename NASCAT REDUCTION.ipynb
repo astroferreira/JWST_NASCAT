{
 "cells": [
  {
   "cell_type": "markdown",
   "id": "0ba2e579",
   "metadata": {},
   "source": [
    "# Masking central star\n",
    "\n",
    "We simply mask the central star using photutils make_source_mask\n",
    "    \"make_source_mask(data_masked, nsigma=20, npixels=13000, dilate_size=30)\"\n",
    "\n",
    "Dilate_size=30 to ensure the mask is somewhate smooth across the bright pixels. The typography in the corner is also masked directly via their coordinates in the array.\n",
    "\n",
    "This is just to ensure we remove the bright centre and the bright portion of the diffraction pattern. The long tails overlap with some sources and we can deblend it later.\n",
    "\n",
    "\n",
    "Image with the masked pixels plus square root normalization. Lots of sources pop up simply by masking the centre. However, there is still a light from the star overflowing to the entire field.\n",
    "![alt text](JWST_HF/MASK.png \"MASK.png\")"
   ]
  },
  {
   "cell_type": "markdown",
   "id": "b9d9136a",
   "metadata": {},
   "source": [
    "# Background estimation\n",
    "\n",
    "\n",
    "I also use photutils to estimate the background so we can provide appropriated detection thresholds to photutils.detect_sources. The following function was used after some tests with the box_size."
   ]
  },
  {
   "cell_type": "code",
   "execution_count": 2,
   "id": "56e51b48",
   "metadata": {},
   "outputs": [],
   "source": [
    "def measure_bkg(data):\n",
    "    sigma_clip = SigmaClip(sigma=3.)\n",
    "    bkg_estimator = SExtractorBackground()\n",
    "    bkg = Background2D(data, (60, 60), filter_size=(3, 3),\n",
    "                   sigma_clip=sigma_clip, bkg_estimator=bkg_estimator)\n",
    "    return bkg"
   ]
  },
  {
   "cell_type": "markdown",
   "id": "918cbd4a",
   "metadata": {},
   "source": [
    "This is the BG estimated by photutils that can be then used by detect sources. As you can see, there is a gradient from the star toward the edges.\n",
    "![alt text](JWST_HF/BG.png \"BG.png\")"
   ]
  },
  {
   "cell_type": "markdown",
   "id": "770eb250",
   "metadata": {},
   "source": [
    "# Source Detection\n",
    "\n",
    "Then I used a 2 sigma detect_sources configuration, aiming to detect even the faintest sources\n",
    "\n",
    "![alt text](JWST_HF/firstdetect.png \"firstdetect.png\")\n",
    "\n",
    "This resulted in 869 different sources (as above). However, a large portion of the sources are just artifacts from the diffraction pattern. I then decided to inspect each source by eye, flagging any that was not a source. The resulting catalog has 490 sources. Here's the final detection without the masks\n",
    "\n",
    "![alt text](JWST_HF/sources.png \"sources.png\")"
   ]
  }
 ],
 "metadata": {
  "kernelspec": {
   "display_name": "mfmtk",
   "language": "python",
   "name": "mfmtk"
  },
  "language_info": {
   "codemirror_mode": {
    "name": "ipython",
    "version": 3
   },
   "file_extension": ".py",
   "mimetype": "text/x-python",
   "name": "python",
   "nbconvert_exporter": "python",
   "pygments_lexer": "ipython3",
   "version": "3.8.1"
  }
 },
 "nbformat": 4,
 "nbformat_minor": 5
}
